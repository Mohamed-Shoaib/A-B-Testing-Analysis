{
 "cells": [
  {
   "cell_type": "code",
   "execution_count": 2,
   "id": "5bb69d3b-1ebf-4144-9938-c72ca4bfd419",
   "metadata": {},
   "outputs": [],
   "source": [
    "import numpy as np\n",
    "import pandas as pd\n",
    "import scipy.stats as stats\n",
    "import statsmodels.stats.api as sms\n",
    "import seaborn as sns\n",
    "from math import ceil"
   ]
  },
  {
   "cell_type": "code",
   "execution_count": 3,
   "id": "19e24223-5c74-4cc1-b122-0fb6ec501bb1",
   "metadata": {},
   "outputs": [
    {
     "data": {
      "text/html": [
       "<div>\n",
       "<style scoped>\n",
       "    .dataframe tbody tr th:only-of-type {\n",
       "        vertical-align: middle;\n",
       "    }\n",
       "\n",
       "    .dataframe tbody tr th {\n",
       "        vertical-align: top;\n",
       "    }\n",
       "\n",
       "    .dataframe thead th {\n",
       "        text-align: right;\n",
       "    }\n",
       "</style>\n",
       "<table border=\"1\" class=\"dataframe\">\n",
       "  <thead>\n",
       "    <tr style=\"text-align: right;\">\n",
       "      <th></th>\n",
       "      <th>user_id</th>\n",
       "      <th>timestamp</th>\n",
       "      <th>group</th>\n",
       "      <th>landing_page</th>\n",
       "      <th>converted</th>\n",
       "    </tr>\n",
       "  </thead>\n",
       "  <tbody>\n",
       "    <tr>\n",
       "      <th>0</th>\n",
       "      <td>851104</td>\n",
       "      <td>2017-01-21 22:11:48.556739</td>\n",
       "      <td>control</td>\n",
       "      <td>old_page</td>\n",
       "      <td>0</td>\n",
       "    </tr>\n",
       "    <tr>\n",
       "      <th>1</th>\n",
       "      <td>804228</td>\n",
       "      <td>2017-01-12 08:01:45.159739</td>\n",
       "      <td>control</td>\n",
       "      <td>old_page</td>\n",
       "      <td>0</td>\n",
       "    </tr>\n",
       "    <tr>\n",
       "      <th>2</th>\n",
       "      <td>661590</td>\n",
       "      <td>2017-01-11 16:55:06.154213</td>\n",
       "      <td>treatment</td>\n",
       "      <td>new_page</td>\n",
       "      <td>0</td>\n",
       "    </tr>\n",
       "    <tr>\n",
       "      <th>3</th>\n",
       "      <td>853541</td>\n",
       "      <td>2017-01-08 18:28:03.143765</td>\n",
       "      <td>treatment</td>\n",
       "      <td>new_page</td>\n",
       "      <td>0</td>\n",
       "    </tr>\n",
       "    <tr>\n",
       "      <th>4</th>\n",
       "      <td>864975</td>\n",
       "      <td>2017-01-21 01:52:26.210827</td>\n",
       "      <td>control</td>\n",
       "      <td>old_page</td>\n",
       "      <td>1</td>\n",
       "    </tr>\n",
       "  </tbody>\n",
       "</table>\n",
       "</div>"
      ],
      "text/plain": [
       "   user_id                   timestamp      group landing_page  converted\n",
       "0   851104  2017-01-21 22:11:48.556739    control     old_page          0\n",
       "1   804228  2017-01-12 08:01:45.159739    control     old_page          0\n",
       "2   661590  2017-01-11 16:55:06.154213  treatment     new_page          0\n",
       "3   853541  2017-01-08 18:28:03.143765  treatment     new_page          0\n",
       "4   864975  2017-01-21 01:52:26.210827    control     old_page          1"
      ]
     },
     "execution_count": 3,
     "metadata": {},
     "output_type": "execute_result"
    }
   ],
   "source": [
    "# Load dataset\n",
    "df = pd.read_csv('ab_data.csv')\n",
    "df.head()"
   ]
  },
  {
   "cell_type": "code",
   "execution_count": 4,
   "id": "296be536-4b06-4695-80a7-bd0ee0dc6f0f",
   "metadata": {},
   "outputs": [],
   "source": [
    "session_counts = df['user_id'].value_counts(ascending = False)\n",
    "multi_users = session_counts[session_counts > 1].count()"
   ]
  },
  {
   "cell_type": "code",
   "execution_count": 5,
   "id": "ec438db1-98ea-4a07-b6e2-dfcf4d5dc6f4",
   "metadata": {},
   "outputs": [],
   "source": [
    "# dropping with multiple session counts\n",
    "users_to_drop = session_counts[session_counts > 1].index\n",
    "\n",
    "df = df[~ df['user_id'].isin(users_to_drop)]"
   ]
  },
  {
   "cell_type": "code",
   "execution_count": 13,
   "id": "62cadf1e-de13-4dcb-9c25-6949cfa97c1b",
   "metadata": {},
   "outputs": [
    {
     "data": {
      "text/html": [
       "<div>\n",
       "<style scoped>\n",
       "    .dataframe tbody tr th:only-of-type {\n",
       "        vertical-align: middle;\n",
       "    }\n",
       "\n",
       "    .dataframe tbody tr th {\n",
       "        vertical-align: top;\n",
       "    }\n",
       "\n",
       "    .dataframe thead th {\n",
       "        text-align: right;\n",
       "    }\n",
       "</style>\n",
       "<table border=\"1\" class=\"dataframe\">\n",
       "  <thead>\n",
       "    <tr style=\"text-align: right;\">\n",
       "      <th></th>\n",
       "      <th>conversion_rate</th>\n",
       "      <th>std_deviation</th>\n",
       "      <th>std_error</th>\n",
       "    </tr>\n",
       "    <tr>\n",
       "      <th>group</th>\n",
       "      <th></th>\n",
       "      <th></th>\n",
       "      <th></th>\n",
       "    </tr>\n",
       "  </thead>\n",
       "  <tbody>\n",
       "    <tr>\n",
       "      <th>control</th>\n",
       "      <td>0.1144</td>\n",
       "      <td>0.318296</td>\n",
       "      <td>0.004501</td>\n",
       "    </tr>\n",
       "    <tr>\n",
       "      <th>treatment</th>\n",
       "      <td>0.1218</td>\n",
       "      <td>0.327055</td>\n",
       "      <td>0.004625</td>\n",
       "    </tr>\n",
       "  </tbody>\n",
       "</table>\n",
       "</div>"
      ],
      "text/plain": [
       "           conversion_rate  std_deviation  std_error\n",
       "group                                               \n",
       "control             0.1144       0.318296   0.004501\n",
       "treatment           0.1218       0.327055   0.004625"
      ]
     },
     "execution_count": 13,
     "metadata": {},
     "output_type": "execute_result"
    }
   ],
   "source": [
    "# Sample control and treatment group\n",
    "control_sample = df[df['group'] == 'control'].sample(n = 5000, random_state = 12)\n",
    "treatment_sample = df[df['group'] == 'treatment'].sample(n = 5000, random_state = 12)\n",
    "ab_test = pd.concat([control_sample, treatment_sample], axis=0)\n",
    "ab_test.reset_index(drop=True, inplace=True)\n",
    "# Define functions for standard deviation and standard error\n",
    "std_dev = lambda x : np.std(x, ddof = 0)\n",
    "std_error = lambda x : stats.sem(x, ddof = 0)\n",
    "conversion_rate = ab_test.groupby('group')['converted'].agg(['mean', std_dev, std_error])\n",
    "conversion_rate.columns = ['conversion_rate', 'std_deviation', 'std_error']\n",
    "conversion_rate"
   ]
  },
  {
   "cell_type": "code",
   "execution_count": 7,
   "id": "1372492b-be07-400a-b9f8-44efe9b3956d",
   "metadata": {},
   "outputs": [],
   "source": [
    "from statsmodels.stats.proportion import proportions_ztest, proportion_confint"
   ]
  },
  {
   "cell_type": "code",
   "execution_count": 8,
   "id": "ab3abc4a-6b25-4d91-8b70-e5f7aa191969",
   "metadata": {},
   "outputs": [],
   "source": [
    "control_results = ab_test[ab_test['group'] == 'control']['converted']\n",
    "treatment_results = ab_test[ab_test['group'] == 'treatment']['converted']"
   ]
  },
  {
   "cell_type": "code",
   "execution_count": 9,
   "id": "89731527-026d-40e1-82e1-9ced3a8e7738",
   "metadata": {},
   "outputs": [],
   "source": [
    "num_control = control_results.count()\n",
    "num_treatment = treatment_results.count()\n",
    "successes = [control_results.sum(), treatment_results.sum()]\n",
    "nobs = [num_control, num_treatment]"
   ]
  },
  {
   "cell_type": "code",
   "execution_count": 10,
   "id": "23c94468-bafa-43f0-a7b0-3e2b92fc3bda",
   "metadata": {},
   "outputs": [],
   "source": [
    "z_stat, pval = proportions_ztest(successes, nobs = nobs)\n",
    "(lower_con, lower_treat), (upper_con, upper_treat) = proportion_confint(successes, nobs=nobs, alpha=0.05)"
   ]
  },
  {
   "cell_type": "code",
   "execution_count": 11,
   "id": "2f84ec63-7ea7-4bb1-88d2-93e59a5be37f",
   "metadata": {},
   "outputs": [
    {
     "name": "stdout",
     "output_type": "stream",
     "text": [
      "Z Statistic - -1.15\n",
      "P-Value - 0.252\n",
      "CI 95% for control group - [0.106, 0.123]\n",
      "CI 95% for treatment group - [0.113, 0.131]\n"
     ]
    }
   ],
   "source": [
    "print(f'Z Statistic - {z_stat:.2f}')\n",
    "print(f'P-Value - {pval:.3f}')\n",
    "print(f'CI 95% for control group - [{lower_con:.3f}, {upper_con:.3f}]')\n",
    "print(f'CI 95% for treatment group - [{lower_treat:.3f}, {upper_treat:.3f}]')"
   ]
  },
  {
   "cell_type": "code",
   "execution_count": null,
   "id": "eea5110d-e5ba-4b35-a030-d1f0b895611e",
   "metadata": {},
   "outputs": [],
   "source": []
  }
 ],
 "metadata": {
  "kernelspec": {
   "display_name": "Python 3 (ipykernel)",
   "language": "python",
   "name": "python3"
  },
  "language_info": {
   "codemirror_mode": {
    "name": "ipython",
    "version": 3
   },
   "file_extension": ".py",
   "mimetype": "text/x-python",
   "name": "python",
   "nbconvert_exporter": "python",
   "pygments_lexer": "ipython3",
   "version": "3.11.4"
  }
 },
 "nbformat": 4,
 "nbformat_minor": 5
}
